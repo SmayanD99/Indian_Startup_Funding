{
 "cells": [
  {
   "cell_type": "markdown",
   "metadata": {
    "_cell_guid": "03658fd2-3825-419a-b301-cbe269ba31e8",
    "_uuid": "5ac1440eb4cc70eb97df740e104c34de2695f759",
    "collapsed": false
   },
   "source": [
    "## This notebook explores the analysis of indian startup funding and basically gives answer of following questions :-\n",
    "1.  How does the funding ecosystem change with time ?(Number of funding per month)\n",
    "2. How much funds does startups generally get in India ?(maximum funding, minimum funding , average funding and number of fundings)\n",
    "3. Which industries are favored by investors for funding ? (OR) Which type of companies got more easily funding ?\n",
    "4. Do cities play a major role in funding ? (OR) Which city has maximum startups ?\n",
    "5. Who is the important investors in the Indian Ecosystem?\n",
    "6. What are different types of funding for startups ?"
   ]
  },
  {
   "cell_type": "code",
   "execution_count": 3,
   "metadata": {
    "_cell_guid": "9e4867c0-8bfa-445c-ac71-4ae452028af9",
    "_kg_hide-input": true,
    "_uuid": "99c097cad13f9e5e2e6bff0bd5cfb16edc99b764",
    "collapsed": false,
    "trusted": false
   },
   "outputs": [
    {
     "ename": "ModuleNotFoundError",
     "evalue": "No module named 'squarify'",
     "output_type": "error",
     "traceback": [
      "\u001b[0;31m---------------------------------------------------------------------------\u001b[0m",
      "\u001b[0;31mModuleNotFoundError\u001b[0m                       Traceback (most recent call last)",
      "\u001b[0;32m<ipython-input-3-9b60588524c1>\u001b[0m in \u001b[0;36m<module>\u001b[0;34m\u001b[0m\n\u001b[1;32m      4\u001b[0m \u001b[0;32mimport\u001b[0m \u001b[0mseaborn\u001b[0m \u001b[0;32mas\u001b[0m \u001b[0msns\u001b[0m\u001b[0;34m\u001b[0m\u001b[0;34m\u001b[0m\u001b[0m\n\u001b[1;32m      5\u001b[0m \u001b[0mcolor\u001b[0m \u001b[0;34m=\u001b[0m \u001b[0msns\u001b[0m\u001b[0;34m.\u001b[0m\u001b[0mcolor_palette\u001b[0m\u001b[0;34m(\u001b[0m\u001b[0;34m)\u001b[0m\u001b[0;34m\u001b[0m\u001b[0;34m\u001b[0m\u001b[0m\n\u001b[0;32m----> 6\u001b[0;31m \u001b[0;32mimport\u001b[0m \u001b[0msquarify\u001b[0m\u001b[0;34m\u001b[0m\u001b[0;34m\u001b[0m\u001b[0m\n\u001b[0m\u001b[1;32m      7\u001b[0m \u001b[0;34m\u001b[0m\u001b[0m\n\u001b[1;32m      8\u001b[0m \u001b[0;32mimport\u001b[0m \u001b[0mplotly\u001b[0m\u001b[0;34m.\u001b[0m\u001b[0moffline\u001b[0m \u001b[0;32mas\u001b[0m \u001b[0mpy\u001b[0m\u001b[0;34m\u001b[0m\u001b[0;34m\u001b[0m\u001b[0m\n",
      "\u001b[0;31mModuleNotFoundError\u001b[0m: No module named 'squarify'"
     ]
    }
   ],
   "source": [
    "import numpy as np # linear algebra\n",
    "import pandas as pd # data processing, CSV file I/O (e.g. pd.read_csv)\n",
    "import matplotlib.pyplot as plt # Visualization\n",
    "import seaborn as sns\n",
    "color = sns.color_palette()\n",
    "import squarify\n",
    "\n",
    "import plotly.offline as py\n",
    "py.init_notebook_mode(connected=True)\n",
    "import plotly.graph_objs as go\n",
    "%matplotlib inline\n",
    "pd.options.mode.chained_assignment = None\n",
    "#pd.options.display.max_columns = 999"
   ]
  },
  {
   "cell_type": "markdown",
   "metadata": {
    "_cell_guid": "0092d8d8-00bd-4a9b-af23-e7fbb219828a",
    "_uuid": "abaad85a92539a0dcc831cc71ae95a3132acd328",
    "collapsed": false
   },
   "source": [
    "## Obtaining the data"
   ]
  },
  {
   "cell_type": "code",
   "execution_count": 4,
   "metadata": {
    "_cell_guid": "084e46b8-2b28-4426-a93f-7e8ab8b8d285",
    "_kg_hide-input": true,
    "_uuid": "dc62c24e81201bf62f0437c0af2b373e7f47e524",
    "collapsed": false,
    "trusted": false
   },
   "outputs": [
    {
     "ename": "FileNotFoundError",
     "evalue": "[Errno 2] File ../input/startup_funding.csv does not exist: '../input/startup_funding.csv'",
     "output_type": "error",
     "traceback": [
      "\u001b[0;31m---------------------------------------------------------------------------\u001b[0m",
      "\u001b[0;31mFileNotFoundError\u001b[0m                         Traceback (most recent call last)",
      "\u001b[0;32m<ipython-input-4-6705778dd726>\u001b[0m in \u001b[0;36m<module>\u001b[0;34m\u001b[0m\n\u001b[0;32m----> 1\u001b[0;31m \u001b[0mfunding_data\u001b[0m \u001b[0;34m=\u001b[0m \u001b[0mpd\u001b[0m\u001b[0;34m.\u001b[0m\u001b[0mread_csv\u001b[0m\u001b[0;34m(\u001b[0m\u001b[0;34m\"../input/startup_funding.csv\"\u001b[0m\u001b[0;34m)\u001b[0m\u001b[0;34m\u001b[0m\u001b[0;34m\u001b[0m\u001b[0m\n\u001b[0m\u001b[1;32m      2\u001b[0m \u001b[0mfunding_data\u001b[0m\u001b[0;34m.\u001b[0m\u001b[0mhead\u001b[0m\u001b[0;34m(\u001b[0m\u001b[0;34m)\u001b[0m\u001b[0;34m\u001b[0m\u001b[0;34m\u001b[0m\u001b[0m\n",
      "\u001b[0;32m/usr/local/lib/python3.6/dist-packages/pandas/io/parsers.py\u001b[0m in \u001b[0;36mparser_f\u001b[0;34m(filepath_or_buffer, sep, delimiter, header, names, index_col, usecols, squeeze, prefix, mangle_dupe_cols, dtype, engine, converters, true_values, false_values, skipinitialspace, skiprows, skipfooter, nrows, na_values, keep_default_na, na_filter, verbose, skip_blank_lines, parse_dates, infer_datetime_format, keep_date_col, date_parser, dayfirst, cache_dates, iterator, chunksize, compression, thousands, decimal, lineterminator, quotechar, quoting, doublequote, escapechar, comment, encoding, dialect, error_bad_lines, warn_bad_lines, delim_whitespace, low_memory, memory_map, float_precision)\u001b[0m\n\u001b[1;32m    674\u001b[0m         )\n\u001b[1;32m    675\u001b[0m \u001b[0;34m\u001b[0m\u001b[0m\n\u001b[0;32m--> 676\u001b[0;31m         \u001b[0;32mreturn\u001b[0m \u001b[0m_read\u001b[0m\u001b[0;34m(\u001b[0m\u001b[0mfilepath_or_buffer\u001b[0m\u001b[0;34m,\u001b[0m \u001b[0mkwds\u001b[0m\u001b[0;34m)\u001b[0m\u001b[0;34m\u001b[0m\u001b[0;34m\u001b[0m\u001b[0m\n\u001b[0m\u001b[1;32m    677\u001b[0m \u001b[0;34m\u001b[0m\u001b[0m\n\u001b[1;32m    678\u001b[0m     \u001b[0mparser_f\u001b[0m\u001b[0;34m.\u001b[0m\u001b[0m__name__\u001b[0m \u001b[0;34m=\u001b[0m \u001b[0mname\u001b[0m\u001b[0;34m\u001b[0m\u001b[0;34m\u001b[0m\u001b[0m\n",
      "\u001b[0;32m/usr/local/lib/python3.6/dist-packages/pandas/io/parsers.py\u001b[0m in \u001b[0;36m_read\u001b[0;34m(filepath_or_buffer, kwds)\u001b[0m\n\u001b[1;32m    446\u001b[0m \u001b[0;34m\u001b[0m\u001b[0m\n\u001b[1;32m    447\u001b[0m     \u001b[0;31m# Create the parser.\u001b[0m\u001b[0;34m\u001b[0m\u001b[0;34m\u001b[0m\u001b[0;34m\u001b[0m\u001b[0m\n\u001b[0;32m--> 448\u001b[0;31m     \u001b[0mparser\u001b[0m \u001b[0;34m=\u001b[0m \u001b[0mTextFileReader\u001b[0m\u001b[0;34m(\u001b[0m\u001b[0mfp_or_buf\u001b[0m\u001b[0;34m,\u001b[0m \u001b[0;34m**\u001b[0m\u001b[0mkwds\u001b[0m\u001b[0;34m)\u001b[0m\u001b[0;34m\u001b[0m\u001b[0;34m\u001b[0m\u001b[0m\n\u001b[0m\u001b[1;32m    449\u001b[0m \u001b[0;34m\u001b[0m\u001b[0m\n\u001b[1;32m    450\u001b[0m     \u001b[0;32mif\u001b[0m \u001b[0mchunksize\u001b[0m \u001b[0;32mor\u001b[0m \u001b[0miterator\u001b[0m\u001b[0;34m:\u001b[0m\u001b[0;34m\u001b[0m\u001b[0;34m\u001b[0m\u001b[0m\n",
      "\u001b[0;32m/usr/local/lib/python3.6/dist-packages/pandas/io/parsers.py\u001b[0m in \u001b[0;36m__init__\u001b[0;34m(self, f, engine, **kwds)\u001b[0m\n\u001b[1;32m    878\u001b[0m             \u001b[0mself\u001b[0m\u001b[0;34m.\u001b[0m\u001b[0moptions\u001b[0m\u001b[0;34m[\u001b[0m\u001b[0;34m\"has_index_names\"\u001b[0m\u001b[0;34m]\u001b[0m \u001b[0;34m=\u001b[0m \u001b[0mkwds\u001b[0m\u001b[0;34m[\u001b[0m\u001b[0;34m\"has_index_names\"\u001b[0m\u001b[0;34m]\u001b[0m\u001b[0;34m\u001b[0m\u001b[0;34m\u001b[0m\u001b[0m\n\u001b[1;32m    879\u001b[0m \u001b[0;34m\u001b[0m\u001b[0m\n\u001b[0;32m--> 880\u001b[0;31m         \u001b[0mself\u001b[0m\u001b[0;34m.\u001b[0m\u001b[0m_make_engine\u001b[0m\u001b[0;34m(\u001b[0m\u001b[0mself\u001b[0m\u001b[0;34m.\u001b[0m\u001b[0mengine\u001b[0m\u001b[0;34m)\u001b[0m\u001b[0;34m\u001b[0m\u001b[0;34m\u001b[0m\u001b[0m\n\u001b[0m\u001b[1;32m    881\u001b[0m \u001b[0;34m\u001b[0m\u001b[0m\n\u001b[1;32m    882\u001b[0m     \u001b[0;32mdef\u001b[0m \u001b[0mclose\u001b[0m\u001b[0;34m(\u001b[0m\u001b[0mself\u001b[0m\u001b[0;34m)\u001b[0m\u001b[0;34m:\u001b[0m\u001b[0;34m\u001b[0m\u001b[0;34m\u001b[0m\u001b[0m\n",
      "\u001b[0;32m/usr/local/lib/python3.6/dist-packages/pandas/io/parsers.py\u001b[0m in \u001b[0;36m_make_engine\u001b[0;34m(self, engine)\u001b[0m\n\u001b[1;32m   1112\u001b[0m     \u001b[0;32mdef\u001b[0m \u001b[0m_make_engine\u001b[0m\u001b[0;34m(\u001b[0m\u001b[0mself\u001b[0m\u001b[0;34m,\u001b[0m \u001b[0mengine\u001b[0m\u001b[0;34m=\u001b[0m\u001b[0;34m\"c\"\u001b[0m\u001b[0;34m)\u001b[0m\u001b[0;34m:\u001b[0m\u001b[0;34m\u001b[0m\u001b[0;34m\u001b[0m\u001b[0m\n\u001b[1;32m   1113\u001b[0m         \u001b[0;32mif\u001b[0m \u001b[0mengine\u001b[0m \u001b[0;34m==\u001b[0m \u001b[0;34m\"c\"\u001b[0m\u001b[0;34m:\u001b[0m\u001b[0;34m\u001b[0m\u001b[0;34m\u001b[0m\u001b[0m\n\u001b[0;32m-> 1114\u001b[0;31m             \u001b[0mself\u001b[0m\u001b[0;34m.\u001b[0m\u001b[0m_engine\u001b[0m \u001b[0;34m=\u001b[0m \u001b[0mCParserWrapper\u001b[0m\u001b[0;34m(\u001b[0m\u001b[0mself\u001b[0m\u001b[0;34m.\u001b[0m\u001b[0mf\u001b[0m\u001b[0;34m,\u001b[0m \u001b[0;34m**\u001b[0m\u001b[0mself\u001b[0m\u001b[0;34m.\u001b[0m\u001b[0moptions\u001b[0m\u001b[0;34m)\u001b[0m\u001b[0;34m\u001b[0m\u001b[0;34m\u001b[0m\u001b[0m\n\u001b[0m\u001b[1;32m   1115\u001b[0m         \u001b[0;32melse\u001b[0m\u001b[0;34m:\u001b[0m\u001b[0;34m\u001b[0m\u001b[0;34m\u001b[0m\u001b[0m\n\u001b[1;32m   1116\u001b[0m             \u001b[0;32mif\u001b[0m \u001b[0mengine\u001b[0m \u001b[0;34m==\u001b[0m \u001b[0;34m\"python\"\u001b[0m\u001b[0;34m:\u001b[0m\u001b[0;34m\u001b[0m\u001b[0;34m\u001b[0m\u001b[0m\n",
      "\u001b[0;32m/usr/local/lib/python3.6/dist-packages/pandas/io/parsers.py\u001b[0m in \u001b[0;36m__init__\u001b[0;34m(self, src, **kwds)\u001b[0m\n\u001b[1;32m   1889\u001b[0m         \u001b[0mkwds\u001b[0m\u001b[0;34m[\u001b[0m\u001b[0;34m\"usecols\"\u001b[0m\u001b[0;34m]\u001b[0m \u001b[0;34m=\u001b[0m \u001b[0mself\u001b[0m\u001b[0;34m.\u001b[0m\u001b[0musecols\u001b[0m\u001b[0;34m\u001b[0m\u001b[0;34m\u001b[0m\u001b[0m\n\u001b[1;32m   1890\u001b[0m \u001b[0;34m\u001b[0m\u001b[0m\n\u001b[0;32m-> 1891\u001b[0;31m         \u001b[0mself\u001b[0m\u001b[0;34m.\u001b[0m\u001b[0m_reader\u001b[0m \u001b[0;34m=\u001b[0m \u001b[0mparsers\u001b[0m\u001b[0;34m.\u001b[0m\u001b[0mTextReader\u001b[0m\u001b[0;34m(\u001b[0m\u001b[0msrc\u001b[0m\u001b[0;34m,\u001b[0m \u001b[0;34m**\u001b[0m\u001b[0mkwds\u001b[0m\u001b[0;34m)\u001b[0m\u001b[0;34m\u001b[0m\u001b[0;34m\u001b[0m\u001b[0m\n\u001b[0m\u001b[1;32m   1892\u001b[0m         \u001b[0mself\u001b[0m\u001b[0;34m.\u001b[0m\u001b[0munnamed_cols\u001b[0m \u001b[0;34m=\u001b[0m \u001b[0mself\u001b[0m\u001b[0;34m.\u001b[0m\u001b[0m_reader\u001b[0m\u001b[0;34m.\u001b[0m\u001b[0munnamed_cols\u001b[0m\u001b[0;34m\u001b[0m\u001b[0;34m\u001b[0m\u001b[0m\n\u001b[1;32m   1893\u001b[0m \u001b[0;34m\u001b[0m\u001b[0m\n",
      "\u001b[0;32mpandas/_libs/parsers.pyx\u001b[0m in \u001b[0;36mpandas._libs.parsers.TextReader.__cinit__\u001b[0;34m()\u001b[0m\n",
      "\u001b[0;32mpandas/_libs/parsers.pyx\u001b[0m in \u001b[0;36mpandas._libs.parsers.TextReader._setup_parser_source\u001b[0;34m()\u001b[0m\n",
      "\u001b[0;31mFileNotFoundError\u001b[0m: [Errno 2] File ../input/startup_funding.csv does not exist: '../input/startup_funding.csv'"
     ]
    }
   ],
   "source": [
    "funding_data = pd.read_csv(\"../input/startup_funding.csv\")\n",
    "funding_data.head()"
   ]
  },
  {
   "cell_type": "markdown",
   "metadata": {
    "_cell_guid": "3d7cdac1-3c19-4ac3-aa1b-bb35b2ff5b94",
    "_uuid": "d33449388d58838b65680c215c37ef41f2076675",
    "collapsed": false
   },
   "source": [
    "### Column names of the table"
   ]
  },
  {
   "cell_type": "code",
   "execution_count": 2,
   "metadata": {
    "_cell_guid": "c083f5c0-77ec-43de-85e1-01163f36d4ed",
    "_kg_hide-input": true,
    "_uuid": "3964e5b68c96e208b54e61c1be99eaadf9463799",
    "collapsed": false,
    "trusted": false
   },
   "outputs": [
    {
     "ename": "NameError",
     "evalue": "name 'funding_data' is not defined",
     "output_type": "error",
     "traceback": [
      "\u001b[0;31m---------------------------------------------------------------------------\u001b[0m",
      "\u001b[0;31mNameError\u001b[0m                                 Traceback (most recent call last)",
      "\u001b[0;32m<ipython-input-2-bdd0a9c210d2>\u001b[0m in \u001b[0;36m<module>\u001b[0;34m\u001b[0m\n\u001b[0;32m----> 1\u001b[0;31m \u001b[0mfunding_data\u001b[0m\u001b[0;34m.\u001b[0m\u001b[0mcolumns\u001b[0m\u001b[0;34m\u001b[0m\u001b[0;34m\u001b[0m\u001b[0m\n\u001b[0m",
      "\u001b[0;31mNameError\u001b[0m: name 'funding_data' is not defined"
     ]
    }
   ],
   "source": [
    "funding_data.columns"
   ]
  },
  {
   "cell_type": "code",
   "execution_count": 0,
   "metadata": {
    "_cell_guid": "a798d9c5-2d3f-41b2-9c03-b18b534d8d53",
    "_kg_hide-input": true,
    "_uuid": "5ec241c25279d98762826435e47d64dd1a9eddcb",
    "collapsed": true,
    "trusted": false
   },
   "outputs": [
   ],
   "source": [
    "print(\"Size of data(Rows, Columns)\",funding_data.shape)"
   ]
  },
  {
   "cell_type": "markdown",
   "metadata": {
    "_cell_guid": "b1743628-3339-46e7-9e33-0c59035e10fb",
    "_uuid": "06d3982c42aa2f861bef1d1223b4115dbf9254f5",
    "collapsed": false
   },
   "source": [
    "**Lets see How much data is missing**"
   ]
  },
  {
   "cell_type": "code",
   "execution_count": 0,
   "metadata": {
    "_cell_guid": "66024c02-84dd-4d92-8d4d-ae25de1247ee",
    "_kg_hide-input": true,
    "_uuid": "8874816157eb7cf5e8793f4b72ea831c02ba6bf0",
    "collapsed": true,
    "trusted": false
   },
   "outputs": [
   ],
   "source": [
    "# missing data \n",
    "total = funding_data.isnull().sum().sort_values(ascending = False)\n",
    "percent = ((funding_data.isnull().sum()/funding_data.isnull().count())*100).sort_values(ascending = False)\n",
    "missing_data = pd.concat([total, percent], axis=1, keys=['Total', 'Percent %'])\n",
    "missing_data.head()"
   ]
  },
  {
   "cell_type": "markdown",
   "metadata": {
    "_cell_guid": "003bce30-9579-4c18-85ce-576d0c6606a2",
    "_uuid": "d0733b4eeade02dc89ba00ac0c1b26652c1bfb61",
    "collapsed": false
   },
   "source": [
    "Deleting \"**Remarks**\" from table and displaying remaining data"
   ]
  },
  {
   "cell_type": "code",
   "execution_count": 0,
   "metadata": {
    "_cell_guid": "6565a80e-8f39-4118-9a0d-d9f7369208f3",
    "_uuid": "0af6ac03945146576973c7c679f584d8314d6178",
    "collapsed": true,
    "trusted": false
   },
   "outputs": [
   ],
   "source": [
    "del funding_data[\"Remarks\"]\n",
    "funding_data.head()"
   ]
  },
  {
   "cell_type": "markdown",
   "metadata": {
    "_cell_guid": "8678fb95-e661-4a60-a181-5b2f41697f39",
    "_uuid": "26a692a56d883bd79ff927d40ccb59c8aeb589be",
    "collapsed": false
   },
   "source": [
    "Now convert the string **\"AmountInUSD\" **into numeric"
   ]
  },
  {
   "cell_type": "code",
   "execution_count": 0,
   "metadata": {
    "_cell_guid": "408bf71d-737d-4f23-a27f-adf6927f0d42",
    "_uuid": "a1942e8c3c13af4b030e816f130067df0fb4b883",
    "collapsed": true,
    "trusted": false
   },
   "outputs": [
   ],
   "source": [
    "funding_data[\"AmountInUSD\"] = funding_data[\"AmountInUSD\"].apply(lambda x: float(str(x).replace(\",\",\"\")))\n",
    "funding_data[\"AmountInUSD\"] = pd.to_numeric(funding_data[\"AmountInUSD\"])\n",
    "funding_data.head()"
   ]
  },
  {
   "cell_type": "markdown",
   "metadata": {
    "_cell_guid": "48506379-e6a8-4a39-bbe8-61b04630f67f",
    "_uuid": "f781982bb0cd9c81692e4e0223c01034156c8d6c",
    "collapsed": false
   },
   "source": [
    "## Ques 1:  How does the funding ecosystem change with time ?(Number of funding per month)"
   ]
  },
  {
   "cell_type": "code",
   "execution_count": 0,
   "metadata": {
    "_cell_guid": "6d3ef18c-5e4a-4565-a519-5e414554b072",
    "_uuid": "f2a5f42840b7d0d6c4f83400bf624a37bdf094a9",
    "collapsed": true,
    "trusted": false
   },
   "outputs": [
   ],
   "source": [
    "### Some more fixes in the data format. Will try to fix in the input file in next version #\n",
    "funding_data['Date'][funding_data['Date']=='12/05.2015'] = '12/05/2015'\n",
    "funding_data['Date'][funding_data['Date']=='13/04.2015'] = '13/04/2015'\n",
    "funding_data['Date'][funding_data['Date']=='15/01.2015'] = '15/01/2015'\n",
    "funding_data['Date'][funding_data['Date']=='22/01//2015'] = '22/01/2015'\n",
    "funding_data[\"yearmonth\"] = (pd.to_datetime(funding_data['Date'],format='%d/%m/%Y').dt.year*100)+(pd.to_datetime(funding_data['Date'],format='%d/%m/%Y').dt.month)\n",
    "temp = funding_data['yearmonth'].value_counts().sort_values(ascending = False).head(10)\n",
    "print(\"Number of funding per month in decreasing order(Top 10)\\n\",temp)\n",
    "year_month = funding_data['yearmonth'].value_counts()\n",
    "plt.figure(figsize=(15,8))\n",
    "sns.barplot(year_month.index, year_month.values, alpha=0.9, color=color[0])\n",
    "plt.xticks(rotation='vertical')\n",
    "plt.xlabel('Year-Month of transaction', fontsize=12)\n",
    "plt.ylabel('Number of fundings made', fontsize=12)\n",
    "plt.title(\"Year-Month Distribution\", fontsize=16)\n",
    "plt.show()"
   ]
  },
  {
   "cell_type": "markdown",
   "metadata": {
    "_cell_guid": "a184eee1-c708-44ed-b2d9-7e10340041ce",
    "_uuid": "4c791985afd7adb1822c56398bb5cd9b817b0e75",
    "collapsed": false
   },
   "source": [
    "As we can see that startups got more funding in **January 2016**(Total funding in January 2016 are 104). Above visualization shows how funding\n",
    "varies from one month to another."
   ]
  },
  {
   "cell_type": "markdown",
   "metadata": {
    "_cell_guid": "158989b9-b5b1-4232-a821-146ec9fa01bf",
    "_uuid": "5646ddbf34fd5bec3a0adb2c59a5b28454fee936",
    "collapsed": true
   },
   "source": [
    "## Ques 2 : How much funds does startups generally get in India ?(maximum funding, minimum funding , average funding and number of fundings)\n"
   ]
  },
  {
   "cell_type": "code",
   "execution_count": 0,
   "metadata": {
    "_cell_guid": "bae953e2-71fa-4439-913a-85c1990acdfa",
    "_uuid": "3c43096475ec26b3f4a52861a51d52ba7f7a4d89",
    "collapsed": true,
    "trusted": false
   },
   "outputs": [
   ],
   "source": [
    "print(\"Maximum funding to a Startups is : \",funding_data[\"AmountInUSD\"].dropna().sort_values().max())"
   ]
  },
  {
   "cell_type": "code",
   "execution_count": 0,
   "metadata": {
    "_cell_guid": "23709bad-aca3-4844-858d-0c6a0a534b49",
    "_uuid": "3e2ab2333aca5b0d84fd42b2a7a957e9962dc83d",
    "collapsed": true,
    "trusted": false
   },
   "outputs": [
   ],
   "source": [
    "funding_data[funding_data.AmountInUSD == 1400000000.0]"
   ]
  },
  {
   "cell_type": "code",
   "execution_count": 0,
   "metadata": {
    "_cell_guid": "df985f3a-03a6-4399-be90-16df2747adc3",
    "_uuid": "f303fbacd25bb209fa5aded30467a47ce886223c",
    "collapsed": true,
    "trusted": false
   },
   "outputs": [
   ],
   "source": [
    "funding_data[funding_data.StartupName == 'Paytm']"
   ]
  },
  {
   "cell_type": "markdown",
   "metadata": {
    "_cell_guid": "5f35ebd4-ff63-4895-94f3-d10a11ef1e57",
    "_uuid": "9914372237a6c4ccfc7ff0361c89d9bd83e01ec8",
    "collapsed": false
   },
   "source": [
    "As we can see** Paytm** and **Flipkart** got maximum funding of  1400000000 USD. Now lats see least funding."
   ]
  },
  {
   "cell_type": "code",
   "execution_count": 0,
   "metadata": {
    "_cell_guid": "534ab547-4b5e-4bb2-98be-edfc528220f0",
    "_uuid": "aa2fe8212150c3793ab97ab4377df655a113b351",
    "collapsed": true,
    "trusted": false
   },
   "outputs": [
   ],
   "source": [
    "print(\"Minimum funding to a Startups is : \",funding_data[\"AmountInUSD\"].dropna().sort_values().min())"
   ]
  },
  {
   "cell_type": "code",
   "execution_count": 0,
   "metadata": {
    "_cell_guid": "694af282-864e-4e1d-9387-cb669776700c",
    "_uuid": "886d062c4fcc7715e03aae9fc40123c920107c9e",
    "collapsed": true,
    "trusted": false
   },
   "outputs": [
   ],
   "source": [
    "funding_data[funding_data.AmountInUSD == 16000.0]"
   ]
  },
  {
   "cell_type": "markdown",
   "metadata": {
    "_cell_guid": "43665626-66ec-43b7-82c7-e4a11b649eaa",
    "_uuid": "ee8185ed99b23720eb6cf5b50fa2ace3340a9e07",
    "collapsed": false
   },
   "source": [
    "Now as we can see **Hostel Dunia, Play your sport, Yo Grad, Enabli and CBS** are least funded Startups i.e, 16000 USD"
   ]
  },
  {
   "cell_type": "code",
   "execution_count": 0,
   "metadata": {
    "_cell_guid": "fb2b896c-51ea-47cd-8454-4e1c801b6317",
    "_uuid": "1409cd4d12f0f9ac9cbeee98408768173926c19f",
    "collapsed": true,
    "trusted": false
   },
   "outputs": [
   ],
   "source": [
    "print(\"On Average indian startups got funding of : \",funding_data[\"AmountInUSD\"].dropna().sort_values().mean())"
   ]
  },
  {
   "cell_type": "markdown",
   "metadata": {
    "_cell_guid": "fb6f4184-51b1-43ed-b5c4-5176e7746b25",
    "_uuid": "bf85c7d225c3bbb17881ac895dc92d8693e4da73",
    "collapsed": false
   },
   "source": [
    "On an Average indian startups got funding of :  12031073.099016393"
   ]
  },
  {
   "cell_type": "code",
   "execution_count": 0,
   "metadata": {
    "_cell_guid": "cd9f799f-fe96-4da7-bf1a-71bbbce38424",
    "_uuid": "371def7f339daffa203b54df92933201d857d3ff",
    "collapsed": true,
    "trusted": false
   },
   "outputs": [
   ],
   "source": [
    "print(\"Total startups funded : \", len(funding_data[\"StartupName\"].unique()))\n",
    "print(funding_data[\"StartupName\"].value_counts().head(10))\n",
    "startupname = funding_data['StartupName'].value_counts().head(20)\n",
    "plt.figure(figsize=(15,8))\n",
    "sns.barplot(startupname.index, startupname.values, alpha=0.9, color=color[0])\n",
    "plt.xticks(rotation='vertical')\n",
    "plt.xlabel('Startup Name', fontsize=12)\n",
    "plt.ylabel('Number of fundings made', fontsize=12)\n",
    "plt.title(\"Number of funding a startup got\", fontsize=16)\n",
    "plt.show()"
   ]
  },
  {
   "cell_type": "markdown",
   "metadata": {
    "_cell_guid": "6443f3a0-bdbc-47a4-b2bb-1c09692198f2",
    "_uuid": "de1a334295c9bcf37d65634e09d621c7585394a2",
    "collapsed": false
   },
   "source": [
    "As we can see that **Swiggy** got maximum number of fundings(Total funding = 7) and total there are 2001 indian startups funded from January 2015 to August 2017. The above visulization is only for Top 20 startups."
   ]
  },
  {
   "cell_type": "markdown",
   "metadata": {
    "_cell_guid": "f078cf65-a85b-400a-ab4a-191a8c16d87e",
    "_uuid": "dc7c94d680966415b83ce2a85684fd72062a3f92",
    "collapsed": false
   },
   "source": [
    "## Ques 3 :  Which industries are favored by investors for funding ? (OR) Which type of companies got more easily funding ?"
   ]
  },
  {
   "cell_type": "code",
   "execution_count": 0,
   "metadata": {
    "_cell_guid": "0e86dbe0-6b15-4dfa-add0-acb12534fd3d",
    "_uuid": "48f09fe07e8a777f72aaf603f68eaf6d2235310f",
    "collapsed": true,
    "trusted": false
   },
   "outputs": [
   ],
   "source": [
    "industry = funding_data['IndustryVertical'].value_counts().head(10)\n",
    "print(industry)\n",
    "plt.figure(figsize=(15,8))\n",
    "sns.barplot(industry.index, industry.values, alpha=0.9, color=color[0])\n",
    "plt.xticks(rotation='vertical')\n",
    "plt.xlabel('Industry vertical of startups', fontsize=12)\n",
    "plt.ylabel('Number of fundings made', fontsize=12)\n",
    "plt.title(\"Industry vertical of startups with number of funding\", fontsize=16)\n",
    "plt.show()"
   ]
  },
  {
   "cell_type": "markdown",
   "metadata": {
    "_cell_guid": "668fe5bc-dd4f-4595-974e-1fe6d722d4de",
    "_uuid": "7117c1714c52d1fbfa973c94b8fca46d93e00723",
    "collapsed": false
   },
   "source": [
    "If we see Above **\"Consumer Internet\" **got maximum number of funding = 772 followed by technology and E-Commerce."
   ]
  },
  {
   "cell_type": "code",
   "execution_count": 0,
   "metadata": {
    "_cell_guid": "fe7858d4-1323-46eb-8105-ea398be29dcc",
    "_uuid": "318dc8302dc83b052ca8189e8f1288f22a3977cf",
    "collapsed": true,
    "trusted": false
   },
   "outputs": [
   ],
   "source": [
    "industry = funding_data['SubVertical'].value_counts().head(10)\n",
    "print(industry)\n",
    "plt.figure(figsize=(15,8))\n",
    "sns.barplot(industry.index, industry.values, alpha=0.9, color=color[0])\n",
    "plt.xticks(rotation='vertical')\n",
    "plt.xlabel('Subvertical of startups', fontsize=12)\n",
    "plt.ylabel('Number of fundings made', fontsize=12)\n",
    "plt.title(\"Subvertical of startups with number of funding\", fontsize=16)\n",
    "plt.show()"
   ]
  },
  {
   "cell_type": "markdown",
   "metadata": {
    "_cell_guid": "f5010043-429e-428a-b5a4-d01abd4e7dc8",
    "_uuid": "3496092e7e9cc900e01cb4e1af18c634aee65472",
    "collapsed": false
   },
   "source": [
    "In Subcategores, **\"Online Phamacy\"** got maximim number of fundings."
   ]
  },
  {
   "cell_type": "markdown",
   "metadata": {
    "_cell_guid": "3533378a-1de5-4e8b-8c35-a30f81d52731",
    "_uuid": "1640e835bf7d6c37fb6550405472f933330f5e9b",
    "collapsed": false
   },
   "source": [
    "## Ques 4 : Do cities play a major role in funding ? (OR) Which city has maximum startups ?\n"
   ]
  },
  {
   "cell_type": "code",
   "execution_count": 0,
   "metadata": {
    "_cell_guid": "6f624471-2680-4bfa-8147-a01aef33cef8",
    "_uuid": "8e4fa0436717aa45bd7bf2bf7eac8fb45d495699",
    "collapsed": true,
    "trusted": false
   },
   "outputs": [
   ],
   "source": [
    "city = funding_data['CityLocation'].value_counts().head(10)\n",
    "print(city)\n",
    "plt.figure(figsize=(15,8))\n",
    "sns.barplot(city.index, city.values, alpha=0.9, color=color[0])\n",
    "plt.xticks(rotation='vertical')\n",
    "plt.xlabel('city location of startups', fontsize=12)\n",
    "plt.ylabel('Number of fundings made', fontsize=12)\n",
    "plt.title(\"city location of startups with number of funding\", fontsize=16)\n",
    "plt.show()"
   ]
  },
  {
   "cell_type": "markdown",
   "metadata": {
    "_cell_guid": "40eaf7f8-2bd6-41b4-9642-c9ce2769d3f0",
    "_uuid": "f2d42ec02e23097df15122cf3b8ad4f0288d4031",
    "collapsed": false
   },
   "source": [
    "**Distribution of startups across Top different cities**"
   ]
  },
  {
   "cell_type": "code",
   "execution_count": 0,
   "metadata": {
    "_cell_guid": "1dd31df6-4cd0-4a90-8dd7-07a386784e60",
    "_uuid": "ef90eb3c2d0e0444f28e6db9768a7c9929ab6b49",
    "collapsed": true,
    "trusted": false
   },
   "outputs": [
   ],
   "source": [
    "plt.figure(figsize=(15,8))\n",
    "count = funding_data['CityLocation'].value_counts()\n",
    "squarify.plot(sizes=count.values,label=count.index, value=count.values)\n",
    "plt.title('Distribution of Startups across Top cities')"
   ]
  },
  {
   "cell_type": "markdown",
   "metadata": {
    "_cell_guid": "f0372fb8-67fa-42e9-9f5c-3054a79c4166",
    "_uuid": "d24adf4676141d1179e9cbef4f438c84eadcf8fe",
    "collapsed": false
   },
   "source": [
    "We can see **Bangalore** attracts more number of investotrs followed by **Mumbai** and **New** **Delhi**"
   ]
  },
  {
   "cell_type": "markdown",
   "metadata": {
    "_cell_guid": "82a94baf-40db-4559-858a-a89a6132adf9",
    "_uuid": "ffb8f6087435239338661333fab66808334406dd",
    "collapsed": false
   },
   "source": [
    "## Ques 5 : Who is the important investors in the Indian Ecosystem?\n"
   ]
  },
  {
   "cell_type": "code",
   "execution_count": 0,
   "metadata": {
    "_cell_guid": "f8bcb553-4bf8-4ce2-b660-2cca4b52efdd",
    "_uuid": "9fc56376b5495153d7fbc9ede1a95591df9f358b",
    "collapsed": true,
    "trusted": false
   },
   "outputs": [
   ],
   "source": [
    "from wordcloud import WordCloud\n",
    "\n",
    "names = funding_data[\"InvestorsName\"][~pd.isnull(funding_data[\"InvestorsName\"])]\n",
    "#print(names)\n",
    "wordcloud = WordCloud(max_font_size=50, width=600, height=300).generate(' '.join(names))\n",
    "plt.figure(figsize=(15,8))\n",
    "plt.imshow(wordcloud)\n",
    "plt.title(\"Wordcloud for Investor Names\", fontsize=35)\n",
    "plt.axis(\"off\")\n",
    "plt.show()"
   ]
  },
  {
   "cell_type": "code",
   "execution_count": 0,
   "metadata": {
    "_cell_guid": "4b71380c-ae89-4ce0-94cf-50a7c624fdb8",
    "_uuid": "7b385ecbd682b591c761579a17bb5a99ff517862",
    "collapsed": true,
    "trusted": false
   },
   "outputs": [
   ],
   "source": [
    "funding_data['InvestorsName'][funding_data['InvestorsName'] == 'Undisclosed investors'] = 'Undisclosed Investors'\n",
    "funding_data['InvestorsName'][funding_data['InvestorsName'] == 'undisclosed Investors'] = 'Undisclosed Investors'\n",
    "funding_data['InvestorsName'][funding_data['InvestorsName'] == 'undisclosed investors'] = 'Undisclosed Investors'\n",
    "funding_data['InvestorsName'][funding_data['InvestorsName'] == 'Undisclosed investor'] = 'Undisclosed Investors'\n",
    "funding_data['InvestorsName'][funding_data['InvestorsName'] == 'Undisclosed Investor'] = 'Undisclosed Investors'\n",
    "funding_data['InvestorsName'][funding_data['InvestorsName'] == 'Undisclosed'] = 'Undisclosed Investors'\n"
   ]
  },
  {
   "cell_type": "code",
   "execution_count": 0,
   "metadata": {
    "_cell_guid": "8697bdae-e617-4adc-8c2a-72cc3d4b3315",
    "_uuid": "497031e60545421c385b120d716f1440841514ff",
    "collapsed": true,
    "trusted": false
   },
   "outputs": [
   ],
   "source": [
    "investors = funding_data['InvestorsName'].value_counts().head(10)\n",
    "print(investors)\n",
    "plt.figure(figsize=(15,8))\n",
    "sns.barplot(investors.index, investors.values, alpha=0.9, color=color[0])\n",
    "plt.xticks(rotation='vertical')\n",
    "plt.xlabel('Investors Names', fontsize=12)\n",
    "plt.ylabel('Number of fundings made', fontsize=12)\n",
    "plt.title(\"Investors Names with number of funding\", fontsize=16)\n",
    "plt.show()"
   ]
  },
  {
   "cell_type": "markdown",
   "metadata": {
    "_cell_guid": "110fc4e3-8fe9-4f08-b3e9-ec13d12d1db7",
    "_uuid": "934eb69cd7e39da7257c3fc18f9b678a45021a8b",
    "collapsed": false
   },
   "source": [
    "**Indian Angel network **and** Ratan tata** funded maximum number of startups followed by **Kalaari Caitals**."
   ]
  },
  {
   "cell_type": "markdown",
   "metadata": {
    "_cell_guid": "ed12a359-f562-4d99-a9f2-6024c57ee1e8",
    "_uuid": "7b1879854751a39e3c37e3a232f8481c26f0a16e",
    "collapsed": false
   },
   "source": [
    "## Ques 6 : What are different types of funding for startups ?"
   ]
  },
  {
   "cell_type": "code",
   "execution_count": 0,
   "metadata": {
    "_cell_guid": "9e42a186-3f22-4f46-b04e-80a8855cff0b",
    "_uuid": "1920149a9d894b5a8fc74552b24383af2167519a",
    "collapsed": true,
    "trusted": false
   },
   "outputs": [
   ],
   "source": [
    "investment = funding_data['InvestmentType'].value_counts()\n",
    "print(investment)"
   ]
  },
  {
   "cell_type": "code",
   "execution_count": 0,
   "metadata": {
    "_cell_guid": "4ecd0a48-cd16-490d-9e95-54bd87818d0e",
    "_uuid": "28f3794cdfbe6dac1bcade0920cf462e6ea0fe2b",
    "collapsed": true,
    "trusted": false
   },
   "outputs": [
   ],
   "source": [
    "funding_data['InvestmentType'][funding_data['InvestmentType'] == 'SeedFunding'] = 'Seed Funding'\n",
    "funding_data['InvestmentType'][funding_data['InvestmentType'] == 'Crowd funding'] = 'Crowd Funding'\n",
    "funding_data['InvestmentType'][funding_data['InvestmentType'] == 'PrivateEquity'] = 'Private Equity'\n"
   ]
  },
  {
   "cell_type": "code",
   "execution_count": 0,
   "metadata": {
    "_cell_guid": "97435571-afaf-4f34-a29f-c4d93d114361",
    "_uuid": "7153e77e335bcc5c32b64b715629e86243307589",
    "collapsed": true,
    "trusted": false
   },
   "outputs": [
   ],
   "source": [
    "investment = funding_data['InvestmentType'].value_counts()\n",
    "print(investment)\n",
    "plt.figure(figsize=(15,8))\n",
    "sns.barplot(investment.index, investment.values, alpha=0.9, color=color[0])\n",
    "plt.xticks(rotation='vertical')\n",
    "plt.xlabel('Investment Type', fontsize=12)\n",
    "plt.ylabel('Number of fundings made', fontsize=12)\n",
    "plt.title(\"Investment Type with number of funding\", fontsize=16)\n",
    "plt.show()"
   ]
  },
  {
   "cell_type": "code",
   "execution_count": 0,
   "metadata": {
    "_cell_guid": "cae90ff4-d3e7-4bdc-83b2-deb0dd69a0c9",
    "_kg_hide-input": true,
    "_uuid": "4c9446b4066144e9e5fd163e9bac8e105cda2f46",
    "collapsed": true,
    "trusted": false
   },
   "outputs": [
   ],
   "source": [
    "temp = funding_data[\"InvestmentType\"].value_counts()\n",
    "labels = temp.index\n",
    "sizes = (temp / temp.sum())*100\n",
    "trace = go.Pie(labels=labels, values=sizes, hoverinfo='label+percent')\n",
    "layout = go.Layout(title='Types of investment funding with %')\n",
    "data = [trace]\n",
    "fig = go.Figure(data=data, layout=layout)\n",
    "py.iplot(fig, filename=\"BorrowerGender\")"
   ]
  },
  {
   "cell_type": "markdown",
   "metadata": {
    "_cell_guid": "5a1051f9-abe4-4bc1-9710-db12e7ac3c4a",
    "_uuid": "5c4247cf379231ec5ffb70b3bd7d8f0c43eed508",
    "collapsed": false
   },
   "source": [
    "We can see **Seed Funding** is in **Top** followed by Private Equity."
   ]
  },
  {
   "cell_type": "markdown",
   "metadata": {
    "_cell_guid": "75375e55-4e2a-4458-81ba-6b6a1ca00b06",
    "_uuid": "7c970343f8075b5e5342258a41d15fec5b2fd287",
    "collapsed": false
   },
   "source": [
   ]
  }
 ],
 "metadata": {
  "kernelspec": {
   "display_name": "Python 3 (system-wide)",
   "language": "python",
   "metadata": {
    "cocalc": {
     "description": "Python 3 programming language",
     "priority": 100,
     "url": "https://www.python.org/"
    }
   },
   "name": "python3"
  },
  "language_info": {
   "codemirror_mode": {
    "name": "ipython",
    "version": 3
   },
   "file_extension": ".py",
   "mimetype": "text/x-python",
   "name": "python",
   "nbconvert_exporter": "python",
   "pygments_lexer": "ipython3",
   "version": "3.6.9"
  }
 },
 "nbformat": 4,
 "nbformat_minor": 4
}